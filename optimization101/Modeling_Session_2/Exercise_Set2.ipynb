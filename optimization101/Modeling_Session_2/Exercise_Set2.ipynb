{
  "cells": [
    {
      "cell_type": "markdown",
      "id": "a3b6270b-424d-4ea3-bbf6-c3d3ed118d7a",
      "metadata": {
        "id": "a3b6270b-424d-4ea3-bbf6-c3d3ed118d7a"
      },
      "source": [
        "# Exercise Set 2"
      ]
    },
    {
      "cell_type": "markdown",
      "id": "6db295a8-7128-40a9-9bf1-096c60f4bc1b",
      "metadata": {
        "id": "6db295a8-7128-40a9-9bf1-096c60f4bc1b"
      },
      "source": [
        "### True or False"
      ]
    },
    {
      "cell_type": "markdown",
      "id": "5542c846-91d6-419b-b360-a4be51a89305",
      "metadata": {
        "id": "5542c846-91d6-419b-b360-a4be51a89305"
      },
      "source": [
        "**Q1.** Suppose the solar forecast for the week totaled more energy than the total demand. In this case it's guaranteed that no energy will be bought from the grid.\n",
        "- True\n",
        "- False ***\n"
      ]
    },
    {
      "cell_type": "markdown",
      "id": "f6934b39-c3d2-4595-ac2b-03dcce6fab8f",
      "metadata": {
        "id": "f6934b39-c3d2-4595-ac2b-03dcce6fab8f"
      },
      "source": [
        "### Formualtion and Coding"
      ]
    },
    {
      "cell_type": "code",
      "execution_count": null,
      "id": "55ba277f-b582-4162-9ed7-1758a6864116",
      "metadata": {
        "id": "55ba277f-b582-4162-9ed7-1758a6864116"
      },
      "outputs": [],
      "source": [
        "%pip install gurobipy\n",
        "\n",
        "import gurobipy as gp\n",
        "from gurobipy import GRB\n",
        "\n",
        "batteries = [\"Battery0\", \"Battery1\"]\n",
        "time_periods = range(180)\n",
        "capacity = {\"Battery0\": 60, \"Battery1\": 80} \n",
        "p_loss = {\"Battery0\": 0.95, \"Battery1\": 0.9} \n",
        "initial = {\"Battery0\": 20, \"Battery1\": 30} \n",
        "\n",
        "m = gp.Model() \n",
        "\n",
        "# flow_in = m.addVars(batteries, time_periods, name=\"flow_in\") \n",
        "# flow_out = m.addVars(batteries, time_periods, name=\"flow_out\")\n",
        "# grid = m.addVars(time_periods, name=\"grid\")\n",
        "# state = m.addVars(batteries, time_periods, name=\"state\") \n",
        "# gen = m.addVars(time_periods, name=\"gen\")"
      ]
    },
    {
      "cell_type": "markdown",
      "id": "6e39bd75-d9ce-453f-ac69-6a2f7c498890",
      "metadata": {
        "id": "6e39bd75-d9ce-453f-ac69-6a2f7c498890"
      },
      "source": [
        "Feel free to use the commented code above to copy and paste."
      ]
    },
    {
      "cell_type": "markdown",
      "id": "3defaedc-5960-40f7-b830-e387cb9b3c6b",
      "metadata": {
        "id": "3defaedc-5960-40f7-b830-e387cb9b3c6b"
      },
      "source": [
        "**Q2.** Write a line of code that sets the objective coefficients for the energy storage problem (minimizing grid electricity purchased) using the `addVars()` command. Check your code by writing to a file named `model.lp` "
      ]
    },
    {
      "cell_type": "code",
      "execution_count": null,
      "id": "c3c678e2-6f38-49f5-aa61-cfadbbd3130f",
      "metadata": {
        "id": "c3c678e2-6f38-49f5-aa61-cfadbbd3130f"
      },
      "outputs": [],
      "source": [
        " grid = m.addVars(time_periods, obj = 1 name=\"grid\")\n",
        " m.write('model.lp')\n",
        "\n"
      ]
    },
    {
      "cell_type": "markdown",
      "id": "5836149c-060a-4d03-89fa-16154b714be6",
      "metadata": {
        "id": "5836149c-060a-4d03-89fa-16154b714be6"
      },
      "source": [
        "**Q3.** [Depth of discharge](https://en.wikipedia.org/wiki/Depth_of_discharge) refers to the percentage a battery's level is below its capacity. To help maintain the batteries, a restriction is put into place that says the depth of discharge for **both batteries combined** cannot exceed 70% of the **total capacity**. Formulate constraints (write the inequalities algebraically) that model this and write code in gurobypi.\n",
        "\n",
        "**Hints:** Make sure your generator expression is in parenthesis if you get an error and consider the initial state a few cells above."
      ]
    },
    {
      "cell_type": "markdown",
      "id": "cb8a761f-b5fb-447f-9be5-fb1d6130b9ad",
      "metadata": {
        "id": "cb8a761f-b5fb-447f-9be5-fb1d6130b9ad"
      },
      "source": [
        "Formulation:\n",
        "\n",
        "\n"
      ]
    },
    {
      "cell_type": "code",
      "execution_count": null,
      "id": "1e9d4938-aad8-4653-b5b8-cfa14b8e4ae9",
      "metadata": {
        "id": "1e9d4938-aad8-4653-b5b8-cfa14b8e4ae9"
      },
      "outputs": [],
      "source": [
        "#### gurobipy code<\n",
        "state = m.addVars(batteries, time_periods, name=\"state\") \n",
        "depth_of_discharge = m.addConstrs ((gp.quicksum(state[b,t] for b in batteries) >= 0.3*sum([capacity[b] for b in batteries]) for t in ???)\n",
        "\n"
      ]
    },
    {
      "cell_type": "markdown",
      "id": "c868cddd-fd51-4dac-8783-ca4ef8ab6fae",
      "metadata": {
        "id": "c868cddd-fd51-4dac-8783-ca4ef8ab6fae"
      },
      "source": [
        "**Q4.** At the start of each day (other than the first) it is required that each battery be at least 40% full. The time periods for the start of each day are 30, 60, 90, 120, and 150. Formulate these constraints and write gurpbipy code. Do not worry about the solar forecast nor the contrstaint in **Q3**."
      ]
    },
    {
      "cell_type": "markdown",
      "id": "194cfcbc-359c-4b32-b2fc-4b54ccdd303f",
      "metadata": {
        "id": "194cfcbc-359c-4b32-b2fc-4b54ccdd303f"
      },
      "source": [
        "Formulation:"
      ]
    },
    {
      "cell_type": "code",
      "execution_count": null,
      "id": "616de220-f53b-460c-b098-2e02d21fc273",
      "metadata": {
        "id": "616de220-f53b-460c-b098-2e02d21fc273"
      },
      "outputs": [],
      "source": [
        "#### gurobipy code\n",
        "m = gp.Model() # define the model again to make sure it is reset\n",
        "state = m.addVars(batteries, time_periods, name=\"state\") \n",
        "\n"
      ]
    },
    {
      "cell_type": "markdown",
      "id": "c30485e8-6883-4f3c-9220-a6650e793f8b",
      "metadata": {
        "id": "c30485e8-6883-4f3c-9220-a6650e793f8b"
      },
      "source": [
        "### Modeling with Binary Variables\n",
        "\n",
        "You have five light bulbs that are either on or off. Let $y_i = 1$ if lighbulb $i$ is on and $y_i = 0$ if it is off, for$\\space i \\in \\{1,2,3,4,5\\}$. Model the following statements using binary variables and $\\le,\\space\\ge,\\space=$. All questions are independent of each other. "
      ]
    },
    {
      "cell_type": "markdown",
      "id": "8500fa22-9536-4266-a80b-f9e677171d29",
      "metadata": {
        "id": "8500fa22-9536-4266-a80b-f9e677171d29"
      },
      "source": [
        "**Q4.** No more than three of the lightbulbs can be on."
      ]
    },
    {
      "cell_type": "markdown",
      "id": "fd67c59e-fd98-4f63-9a49-d3c91302332b",
      "metadata": {
        "id": "fd67c59e-fd98-4f63-9a49-d3c91302332b"
      },
      "source": [
        "**Q5.** Lightbulb 2 or ligthbulb 3 must be on."
      ]
    },
    {
      "cell_type": "markdown",
      "id": "84ba908d-ca27-4278-be80-3b0d86d0d862",
      "metadata": {
        "id": "84ba908d-ca27-4278-be80-3b0d86d0d862"
      },
      "source": [
        "**Q6.** If lightbulb 1 is on, then lightbulb 5 is also on. "
      ]
    },
    {
      "cell_type": "markdown",
      "id": "85ffcb81-53bf-4d3f-85c0-ae14dbc34664",
      "metadata": {
        "id": "85ffcb81-53bf-4d3f-85c0-ae14dbc34664"
      },
      "source": [
        "**Q7.** If lightbulb 1 is off, then lightbulb 3 is on. "
      ]
    },
    {
      "cell_type": "markdown",
      "id": "82b39e21-c89f-4bbc-9498-0522dff56141",
      "metadata": {
        "id": "82b39e21-c89f-4bbc-9498-0522dff56141"
      },
      "source": [
        "**Q8.** If lightbulb 1 is off, then lightbulb 2 is off"
      ]
    },
    {
      "cell_type": "markdown",
      "id": "043015c9-68d3-4e7a-af5d-7d2a87f28c2c",
      "metadata": {
        "id": "043015c9-68d3-4e7a-af5d-7d2a87f28c2c"
      },
      "source": [
        "**Q9.** Lightbulb 2 and lightbulb 4 are in opposite on/off states."
      ]
    },
    {
      "cell_type": "markdown",
      "id": "1e7396d3-cbc4-416d-be28-95a07e3c243a",
      "metadata": {
        "id": "1e7396d3-cbc4-416d-be28-95a07e3c243a"
      },
      "source": [
        "**Q10.** If any of lightbulbs 1 through 4 are on, then lighbtulb 5 is also on. "
      ]
    },
    {
      "cell_type": "code",
      "execution_count": null,
      "id": "ac311889-c0b1-41d9-936a-ea93109290f2",
      "metadata": {
        "id": "ac311889-c0b1-41d9-936a-ea93109290f2"
      },
      "outputs": [],
      "source": []
    }
  ],
  "metadata": {
    "kernelspec": {
      "display_name": "Python 3 (ipykernel)",
      "language": "python",
      "name": "python3"
    },
    "language_info": {
      "codemirror_mode": {
        "name": "ipython",
        "version": 3
      },
      "file_extension": ".py",
      "mimetype": "text/x-python",
      "name": "python",
      "nbconvert_exporter": "python",
      "pygments_lexer": "ipython3",
      "version": "3.9.7"
    },
    "toc-autonumbering": false,
    "toc-showcode": false,
    "toc-showmarkdowntxt": false,
    "colab": {
      "provenance": []
    }
  },
  "nbformat": 4,
  "nbformat_minor": 5
}